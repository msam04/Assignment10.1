{
 "cells": [
  {
   "cell_type": "code",
   "execution_count": 25,
   "metadata": {},
   "outputs": [
    {
     "name": "stdout",
     "output_type": "stream",
     "text": [
      "Please enter the list of integers: 3 5 7 2 8 10 11 65 72 81 99 100 150\n",
      "Please enter the sliding window size: 3\n",
      " 5.000\n",
      " 4.667\n",
      " 5.667\n",
      " 6.667\n",
      " 9.667\n",
      " 28.667\n",
      " 49.333\n",
      " 72.667\n",
      " 84.000\n",
      " 93.333\n",
      " 116.333\n"
     ]
    }
   ],
   "source": [
    "import numpy as np\n",
    "\n",
    "def find_avg_moving_window(in_array, window_size):\n",
    "    '''\n",
    "    Generate list of sliding window average for given array\n",
    "    '''\n",
    "    in_array = list(in_array)\n",
    "    u = len(in_array) - (window_size-1)\n",
    "    for i in range(len(in_array) - (window_size-1)):\n",
    "        sub_list = in_array[i:i+window_size]\n",
    "        yield np.mean(sub_list)\n",
    "        \n",
    "array_in = list(map(int, (input(\"Please enter the list of integers: \")).split()))\n",
    "k = int(input(\"Please enter the sliding window size: \"))\n",
    "np.set_printoptions(formatter={'float': '{: 0.3f}'.format})\n",
    "for avg in find_avg_moving_window(array_in, k):\n",
    "    print(\"{: 0.3f}\".format(avg))\n",
    "\n",
    "        "
   ]
  },
  {
   "cell_type": "code",
   "execution_count": null,
   "metadata": {},
   "outputs": [],
   "source": []
  }
 ],
 "metadata": {
  "kernelspec": {
   "display_name": "Python 3",
   "language": "python",
   "name": "python3"
  },
  "language_info": {
   "codemirror_mode": {
    "name": "ipython",
    "version": 3
   },
   "file_extension": ".py",
   "mimetype": "text/x-python",
   "name": "python",
   "nbconvert_exporter": "python",
   "pygments_lexer": "ipython3",
   "version": "3.6.4"
  }
 },
 "nbformat": 4,
 "nbformat_minor": 2
}
